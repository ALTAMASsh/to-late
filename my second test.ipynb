{
 "cells": [
  {
   "cell_type": "markdown",
   "id": "42a529c8-9b87-4ec4-800e-c10391be4a0f",
   "metadata": {
    "jp-MarkdownHeadingCollapsed": true,
    "tags": []
   },
   "source": [
    "### string base problem"
   ]
  },
  {
   "cell_type": "code",
   "execution_count": null,
   "id": "b9d516de-3044-46fa-871a-b934ef9d353b",
   "metadata": {},
   "outputs": [],
   "source": [
    "# 1.Write a program to reverse a string.\n",
    ">>> x = input(\"enter your alphabat\")\n",
    ">>> print(x[::-1])"
   ]
  },
  {
   "cell_type": "code",
   "execution_count": null,
   "id": "e4154251-b6e9-443a-a4d8-ac0e68dd9ecd",
   "metadata": {},
   "outputs": [],
   "source": [
    "#2\n",
    "string= input(\"Enter word please\")\n",
    "if string == string[::-1]:\n",
    "    print(\"this is palondome\")\n",
    "else:\n",
    "    print(\"this is not a palondrome\")"
   ]
  },
  {
   "cell_type": "code",
   "execution_count": null,
   "id": "67eca32e-032f-4c1c-940d-a7cc916261c4",
   "metadata": {},
   "outputs": [],
   "source": [
    "#3\n",
    "y = str(input(\"enter your alphabat\"))\n",
    "str.upper(y)"
   ]
  },
  {
   "cell_type": "code",
   "execution_count": null,
   "id": "32189a5e-bad1-42f2-ac71-e42286097d6e",
   "metadata": {},
   "outputs": [],
   "source": [
    "#4\n",
    "z = str(input(\"enter your alphabat\"))\n",
    "str.lower(z)        "
   ]
  },
  {
   "cell_type": "code",
   "execution_count": null,
   "id": "fcae7bec-06e1-4621-9dc6-1e7cd374c8e5",
   "metadata": {},
   "outputs": [],
   "source": [
    "#5\n",
    "R = (\"a,e,i,o,u\")\n",
    "string = str(input(\"enter your string\"))\n",
    "N = 0\n",
    "for i in R:\n",
    "    for j in string:\n",
    "        if i == j:\n",
    "            N = N + 1\n",
    "print(N)"
   ]
  },
  {
   "cell_type": "code",
   "execution_count": null,
   "id": "f04bde38-bc2b-408c-9ce7-faeff3e24a26",
   "metadata": {},
   "outputs": [],
   "source": [
    "#6\n",
    "R = (\"a,e,i,o,u\")\n",
    "string = str(input(\"enter your string\"))\n",
    "M = len(string)\n",
    "N = 0\n",
    "for i in R:\n",
    "    for j in string:\n",
    "        if i == j:\n",
    "            N = N + 1\n",
    "print(M - N)"
   ]
  },
  {
   "cell_type": "code",
   "execution_count": null,
   "id": "69ff20b1-4ca0-41b9-9fab-95099c369d28",
   "metadata": {},
   "outputs": [],
   "source": [
    "#6\n",
    "R = (\"a,e,i,o,u\")\n",
    "a = str(input(\"enter the string\"))\n",
    "m = len(a)\n",
    "n = 0\n",
    "for i in R:\n",
    "    for  j in a:\n",
    "        if i == j:\n",
    "            n = n+1\n",
    "print(m-n)            \n",
    "        \n"
   ]
  },
  {
   "cell_type": "code",
   "execution_count": null,
   "id": "db9da68d-8e58-4b88-8cab-9743a580fa62",
   "metadata": {},
   "outputs": [],
   "source": [
    "#7\n",
    "string = str(input(\"Enter the string : \"))\n",
    "New_string = \"\"\n",
    "for i in string:\n",
    "    if i==\" \":\n",
    "        None\n",
    "    else:\n",
    "        New_string = New_string + i\n",
    "print(New_string)"
   ]
  },
  {
   "cell_type": "code",
   "execution_count": null,
   "id": "fd854d92-700d-4d40-9326-90c8cdf6b28b",
   "metadata": {},
   "outputs": [],
   "source": [
    "#8\n",
    "s = str(input(\"enter your string\"))\n",
    "l = 0\n",
    "for i in s:\n",
    "    l = l+1\n",
    "print(\"your string lenght is\",l)    "
   ]
  },
  {
   "cell_type": "code",
   "execution_count": null,
   "id": "1b31fcb6-5c0a-4585-8d83-4ca85c17400b",
   "metadata": {},
   "outputs": [],
   "source": [
    "#9 \n",
    "x =str(input(\"enter the string :\"))\n",
    "a = input(\"word to be search :\")\n",
    "if a in x:\n",
    "    print(\"yes\")\n",
    "else:\n",
    "    print(\"no\") "
   ]
  },
  {
   "cell_type": "code",
   "execution_count": null,
   "id": "087e315f-a733-43dc-8a54-e96bfb5d72f9",
   "metadata": {},
   "outputs": [],
   "source": []
  },
  {
   "cell_type": "code",
   "execution_count": null,
   "id": "c732d88e-8384-46fa-b87f-a1bf86df7284",
   "metadata": {},
   "outputs": [],
   "source": [
    "# 10\n",
    "string = str(input(\"enter please your string you want to replace :\"))\n",
    "x1 = str(input(\"enter word to be remove : \"))\n",
    "x2 = str(input(\"enter word to be add : \"))\n",
    "New_string = string.replace(x1,x2) \n",
    "print(New_string)"
   ]
  },
  {
   "cell_type": "code",
   "execution_count": null,
   "id": "55b57fc3-db3b-4184-9ddc-08f2b3d2b00e",
   "metadata": {},
   "outputs": [],
   "source": [
    "x = str(input(\"enter string here\"))\n",
    "x.count(input(\"enter what do you want to find\"))"
   ]
  },
  {
   "cell_type": "code",
   "execution_count": null,
   "id": "4d7ac444-cecd-4c4a-be6f-1cdad2d6374c",
   "metadata": {},
   "outputs": [],
   "source": [
    "x = str(input(\"enter string here : \"))\n",
    "x.find(input(\"enter what which word index you want to find :\"))"
   ]
  },
  {
   "cell_type": "code",
   "execution_count": null,
   "id": "d314fe2f-a38e-4d99-9ab2-f0adc938761e",
   "metadata": {},
   "outputs": [],
   "source": [
    "#wrong/\n",
    "y = str(input(\"enter string here : \"))\n",
    "y.rfind(input(\"enter which word index you wnat to find :\"))"
   ]
  },
  {
   "cell_type": "code",
   "execution_count": null,
   "id": "b037d9b7-4dd0-4312-9905-147967a4de08",
   "metadata": {},
   "outputs": [],
   "source": [
    "#14\n",
    "text = str(input(\"enter the word\"))\n",
    "print(' '.join(text))"
   ]
  },
  {
   "cell_type": "code",
   "execution_count": null,
   "id": "47ef0fee-9c60-4a7c-a4fa-8b2b5847909c",
   "metadata": {},
   "outputs": [],
   "source": [
    "#15 Join a list of words into a string.\n",
    "s = str(input(\"Enter the string : \"))\n",
    "l = input(\"Enter the list of word\")\n",
    "for i in l:\n",
    "    s = s + i\n",
    "print(s)"
   ]
  },
  {
   "cell_type": "code",
   "execution_count": null,
   "id": "c6f77817-3248-4a5e-90fb-ba7e0ef092d1",
   "metadata": {},
   "outputs": [],
   "source": [
    "#16 Convert a string where words are separated by spaces to one where words\n",
    "are separated by underscores.\n",
    "s = str(input(\"enter string here\"))\n",
    "print(\"_\".join(s.split()))"
   ]
  },
  {
   "cell_type": "code",
   "execution_count": null,
   "id": "5151cec9-336f-4504-b8f8-511b8e3bfafd",
   "metadata": {},
   "outputs": [],
   "source": [
    "#17 Check if a string starts with a specific word or phrase.\n",
    "E = str(input(\"enter the string here\"))\n",
    "i = str(input(\"enter the specific word\"))\n",
    "y = E.find(i)\n",
    "if y == 0:   \n",
    "    print(\"YES!\")\n",
    "else:\n",
    "    print(\"NO!\")\n",
    "        \n",
    "        "
   ]
  },
  {
   "cell_type": "code",
   "execution_count": null,
   "id": "e346fff5-bab8-43f3-8ad1-d788493dbec7",
   "metadata": {},
   "outputs": [],
   "source": [
    "#18 Check if a string ends with a specific word or phrase.\n",
    "E = str(input(\"enter the string here\"))\n",
    "y = E.endswith(input(\"enter the specific word\"))\n",
    "print(y)"
   ]
  },
  {
   "cell_type": "code",
   "execution_count": null,
   "id": "3f1d404b-de7e-4189-a40f-33d04b63ef20",
   "metadata": {},
   "outputs": [],
   "source": [
    "#19 Convert a string to title case\n",
    "string = str(input(\"enter the text\"))\n",
    "print(string.title())"
   ]
  },
  {
   "cell_type": "code",
   "execution_count": null,
   "id": "503a806e-73f3-4d03-9d21-c475b1cda368",
   "metadata": {},
   "outputs": [],
   "source": [
    "#20 Find the longest word in a string.\n",
    "def largestWord(s):\n",
    "    s = sorted(s, key = len)\n",
    "print(s[-1])\n",
    "if __name__ == \"__main__\":\n",
    "    s = str(input(\"enter the string here\"))\n",
    "    l = list(s.split(\" \"))\n",
    "    largestWord(l)\n"
   ]
  },
  {
   "cell_type": "code",
   "execution_count": null,
   "id": "3f87be0a-5ddf-4591-b366-4fcad69b60f8",
   "metadata": {},
   "outputs": [],
   "source": [
    "#21. Find the shortest word in a string.\n",
    "def shortestword(s):\n",
    "    s = sorted(s, key = len)\n",
    "    print(s[0])\n",
    "    if __name__ == \"__main__\":\n",
    "        s = str(input(\"enter the string here\"))\n",
    "        l = list(s.split(\" \"))\n",
    "        shortestword(l)        "
   ]
  },
  {
   "cell_type": "code",
   "execution_count": null,
   "id": "ea43266c-d55b-4a44-884f-86a52645d81e",
   "metadata": {},
   "outputs": [],
   "source": [
    "#22.Reverse the order of words in a string\n",
    "string =  str(input(\"enter the string here\"))\n",
    "R = string.split()[::-1]\n",
    "L = []\n",
    "for i in R :\n",
    "    R.append(i)\n",
    "print(\" \".join(L))"
   ]
  },
  {
   "cell_type": "code",
   "execution_count": null,
   "id": "f00d28e2-cf9a-4e75-a7eb-2d55bb5673f1",
   "metadata": {},
   "outputs": [],
   "source": [
    "#22.Reverse the order of words in a string\n",
    "string = str(input(\"enter the string\"))\n",
    "s = string.split()[::-1]\n",
    "l = []\n",
    "for i in s:\n",
    "\tl.append(i)\n",
    "print(\" \".join(l))"
   ]
  },
  {
   "cell_type": "code",
   "execution_count": null,
   "id": "aa41aee7-36e7-4d90-8f56-06cb6fd33a62",
   "metadata": {},
   "outputs": [],
   "source": [
    "#23. Check if a string is alphanumeric\n",
    "string = str(input(\"enter the string\"))\n",
    "string.isalnum()"
   ]
  },
  {
   "cell_type": "code",
   "execution_count": null,
   "id": "2da00005-235c-4b06-b6c6-80ab518279c0",
   "metadata": {},
   "outputs": [],
   "source": [
    "#24. Extract all digits from a string.\n",
    "s=input(\"enter the string with number\")\n",
    "for i in s:\n",
    "    if(i.isdigit()):\n",
    "\t    print(i,end=\"\")\n",
    "else:\n",
    "    print(\"NO\")\n"
   ]
  },
  {
   "cell_type": "code",
   "execution_count": null,
   "id": "8b7acac5-3a43-465d-babc-7ec6ca85bf79",
   "metadata": {},
   "outputs": [],
   "source": [
    "#25. Extract all alphabets from a string\n",
    "s=input(\"enter the string with number\")\n",
    "for i in s:\n",
    "    if(i.isalpha()):\n",
    "        print(i,end=\"\")\n",
    "else:\n",
    "    print(\"NO\")"
   ]
  },
  {
   "cell_type": "code",
   "execution_count": null,
   "id": "137a7245-0b59-4a06-9c17-ea645b90b6c3",
   "metadata": {},
   "outputs": [],
   "source": [
    "#26. Count the number of uppercase letters in a string\n",
    "try:\n",
    "    s=input(\"enter the string \")\n",
    "    l = len(s)\n",
    "    N = 0\n",
    "    for i in range(0,l+1):\n",
    "        if s[i].isupper() == True:\n",
    "            N = N + 1\n",
    "except: Exception           \n",
    "print(N)    "
   ]
  },
  {
   "cell_type": "code",
   "execution_count": null,
   "id": "6d5daee3-b077-446c-aa12-3aa268f88f62",
   "metadata": {},
   "outputs": [],
   "source": [
    "#27. Count the number of lowercase letters in a string\n",
    "s=input(\"enter the string \")\n",
    "l = len(s)\n",
    "N = 0\n",
    "for i in range(0,l):\n",
    "    if s[i].islower() == True:\n",
    "        N = N + 1     \n",
    "print(N)    "
   ]
  },
  {
   "cell_type": "code",
   "execution_count": null,
   "id": "127a47b6-788b-4878-bfb8-296b39dc34a6",
   "metadata": {},
   "outputs": [],
   "source": [
    "#28.Swap the case of each character in a string.\n",
    "x = input(\"enter the string\")\n",
    "l = len(x)\n",
    "y = \"\"\n",
    "for i in range(0,l):\n",
    "    if x[i].islower() == True:\n",
    "        y = y+x[i].upper()\n",
    "    elif x[i].isupper() == True:\n",
    "        y = y+x[i].lower()\n",
    "    else:\n",
    "        y = y + x[i]\n",
    "print(y)        "
   ]
  },
  {
   "cell_type": "code",
   "execution_count": null,
   "id": "468c8d3f-81a2-42a7-8997-445d44293a64",
   "metadata": {},
   "outputs": [],
   "source": [
    "#29. Remove a specific word from a string\n",
    "x = input(\"enter the string\")\n",
    "y = input(\"word to be remove\")\n",
    "print(x.replace(y,\"\",))"
   ]
  },
  {
   "cell_type": "code",
   "execution_count": null,
   "id": "f0f05bea-3ddd-4444-8e77-91bfb2285835",
   "metadata": {},
   "outputs": [],
   "source": [
    "# 30 Check if a string is a valid email address\n",
    "import re\n",
    "\n",
    "S  = r'\\[A-Za-z0-9._%]+@[A-Za-z0-9.-]+\\.[A-Z|a-z]{2,7}\\b'\n",
    "def check(email):\n",
    "    if (re.fullmatch(S,email)):\n",
    "        print(\"valid email\")\n",
    "    else:\n",
    "        print(\"invalid email\")\n",
    "        \n",
    "if __name__ == \"__main__\":\n",
    "     email = input(\" email :\")\n",
    "check(email)"
   ]
  },
  {
   "cell_type": "code",
   "execution_count": null,
   "id": "fd48f00c-1d0a-45ce-9d02-44185604d787",
   "metadata": {},
   "outputs": [],
   "source": [
    "#31. Extrac  the username from an email address string.\n",
    "def username(email_address):\n",
    "\tr = email_address.index(\"@\")\n",
    "\treturn \"\".join(l for l in email_address[:r] if l.isalpha())\n",
    "\n",
    "email_address = input(\"Enter email please\")\n",
    "print(\"Original Email:\", email_address)\n",
    "print(\"Extract the name from the said Email address:\")\n",
    "print(username(email_address))"
   ]
  },
  {
   "cell_type": "code",
   "execution_count": null,
   "id": "7817cc22-b5cf-4266-ad90-ac578324332a",
   "metadata": {},
   "outputs": [],
   "source": [
    "#32. Extract the domain name from an email address string.\n",
    "string = str(input(\"enter the email\"))\n",
    "string = string[string.index('@') + 1:]  \n",
    "print(string)"
   ]
  },
  {
   "cell_type": "code",
   "execution_count": null,
   "id": "f09289f6-43d9-42e8-8243-cf40aa3d4aa6",
   "metadata": {},
   "outputs": [],
   "source": [
    "# 33. Replace multiple spaces in a string with a single space\n",
    "string = str(input(\"ENTER TH STRING\"))\n",
    "result = \" \".join(string.split())\n",
    "print(result)"
   ]
  },
  {
   "cell_type": "code",
   "execution_count": null,
   "id": "fe77e31d-7b39-466a-8f3d-08399a9d9999",
   "metadata": {},
   "outputs": [],
   "source": [
    "# 34. Check if a string is a valid URL \n",
    "\n",
    "def Find(string):\n",
    "\tx=string.split()\n",
    "\tres=[]\n",
    "\tfor i in x:\n",
    "\t\tif i.startswith(\"https:\") or i.startswith(\"http:\"):\n",
    "\t\t\tres.append(i)\n",
    "\treturn res\n",
    "\t\t\t\n",
    "string = input(\"enter string\")\n",
    "print(\"Urls: \", Find(string)) "
   ]
  },
  {
   "cell_type": "code",
   "execution_count": null,
   "id": "a11d4911-4442-4943-a95a-1f59c1280fe5",
   "metadata": {},
   "outputs": [],
   "source": [
    "# 35. Extract the protocol (http or https) from a URL string\n",
    "#import pandas as pd\n",
    "#rom urllib.parse import urlparse\n",
    "#url = input(\"ENTER URL\")\n",
    "#parts = urlparse(url)\n",
    "#parts\n",
    "#ParseResult(scheme='http', \n",
    "#netloc='flyandlure.org', \n",
    "#path='/articles/fly_fishing/fly_fishing_diary_july_2020', \n",
    "#params='', \n",
    "#query='q=word&b=something', \n",
    "#fragment='anchor' )\n",
    "            "
   ]
  },
  {
   "cell_type": "code",
   "execution_count": null,
   "id": "547857ec-c890-47ac-8134-b6f6b8045cd7",
   "metadata": {},
   "outputs": [],
   "source": [
    "#36 Find the frequency of each character in a string.\n",
    "string = input(\"enter your  string\")\n",
    "\n",
    "all_frequ = {}\n",
    "\n",
    "for i in string:\n",
    "\tif i in all_frequ:\n",
    "\t\tall_frequ[i] += 1\n",
    "\telse:\n",
    "\t\tall_frequ[i] = 1\n",
    "\n",
    "print(str(all_frequ))\n"
   ]
  },
  {
   "cell_type": "code",
   "execution_count": null,
   "id": "13006e1f-46d7-4dd4-91c8-cb4cd59265f1",
   "metadata": {},
   "outputs": [],
   "source": [
    "# 37. Remove all punctuation from a string\n",
    "string = input(\"enter a string\")\n",
    "Punc =  '''!()-[]{};:'\"\\,<>./?@#$%^&*_~'''\n",
    "print(\"The original string is : \" + string)\n",
    "for i in string:\n",
    "    if i in punc:\n",
    "        string = string.replace(i,\"\")\n",
    "print(\"The string after punctuation filter : \" + string)"
   ]
  },
  {
   "cell_type": "code",
   "execution_count": null,
   "id": "933a8c49-e9d0-4366-9398-138d5d89741b",
   "metadata": {},
   "outputs": [],
   "source": [
    "#38 Check if a string contains only digits\n",
    "string = input(\"enter string please\")\n",
    "D = string.isdigit()\n",
    "print(D)"
   ]
  },
  {
   "cell_type": "code",
   "execution_count": null,
   "id": "e0c69b98-fa94-4177-b4c9-29ab56d3ede7",
   "metadata": {},
   "outputs": [],
   "source": [
    "#39. Check if a string contains only alphabets.\n",
    "string = input(\"enter string please\")\n",
    "A = string.isalpha()\n",
    "print(A)"
   ]
  },
  {
   "cell_type": "code",
   "execution_count": null,
   "id": "3886ab17-af7f-46ec-b589-35b3e182b964",
   "metadata": {},
   "outputs": [],
   "source": [
    "#40. Convert a string to a list of characters.\n",
    "string = input(\"enter string please\")\n",
    "new_string = list(string)\n",
    "print(new_string)"
   ]
  },
  {
   "cell_type": "code",
   "execution_count": null,
   "id": "6e717034-0468-4d75-b7a2-a27bf34b16d3",
   "metadata": {},
   "outputs": [],
   "source": [
    "#41 Check if two strings are anagrams.\n",
    "def is_anagram(str1, str2):\n",
    "    str1 = str1.lower()\n",
    "    str2 = str2.lower()\n",
    "    sorted_str1 = sorted(str1)\n",
    "    sorted_str2 = sorted(str2)\n",
    "    return sorted_str1 == sorted_str2\n",
    "\n",
    "    "
   ]
  },
  {
   "cell_type": "code",
   "execution_count": null,
   "id": "43d0ee54-adc6-4e21-a005-09b7f6321b09",
   "metadata": {},
   "outputs": [],
   "source": [
    "is_anagram(\"listen\", \"silent\")"
   ]
  },
  {
   "cell_type": "code",
   "execution_count": null,
   "id": "f7eed392-e1a3-4b4d-ab16-79e4d9c182bb",
   "metadata": {},
   "outputs": [],
   "source": [
    "#42  Encode a string using a Caesar cipher.\n",
    "def caesar_cipher(plaintext, shift):\n",
    "    ciphertext = \"\"\n",
    "    for c in plaintext:\n",
    "        if c.isalpha():\n",
    "            new_char = chr((ord(c) + shift - ord(\"A\")%26 + ord(\"A\")))\n",
    "        ciphertext += new_char\n",
    "    else:\n",
    "        ciphertext += c\n",
    "    return ciphertext"
   ]
  },
  {
   "cell_type": "code",
   "execution_count": null,
   "id": "0b57ef1b-233b-4375-8c4b-907b4be23a36",
   "metadata": {},
   "outputs": [],
   "source": [
    "#43. Decode a Caesar cipher encoded string.\n",
    "def decode_caesar_cipher(text,shift):\n",
    "    string = \"\"\n",
    "    for i in text:\n",
    "        if i.isalpha():\n",
    "            new_str = ord(i) - shift\n",
    "            if new_str < ord(\"A\"):\n",
    "                new_str += 26\n",
    "                string += chr(new_str)\n",
    "            else:\n",
    "                string += i\n",
    "                return string\n",
    "            \n",
    "            "
   ]
  },
  {
   "cell_type": "code",
   "execution_count": null,
   "id": "de24465f-0b6c-450d-af4c-501b6b8a47e9",
   "metadata": {},
   "outputs": [],
   "source": [
    "#44 . Find the most frequent word in a string\n",
    "from collections import Counter \n",
    "from functools import reduce\n",
    "def most_commen_word(string):\n",
    "    new_string = reduce(lambda a,b : a+b , [i.split() for i in string])\n",
    "    count = Counter(new_string)\n",
    "    return count.most_common(1)[0][0]\n",
    "string = input(\"enter string here\")\n",
    "print(most_commen_word(string))"
   ]
  },
  {
   "cell_type": "code",
   "execution_count": null,
   "id": "8a617c77-2d95-4ad9-8e20-651e0ce2d7a2",
   "metadata": {},
   "outputs": [],
   "source": [
    "#45. find all unique words in a string. python\n",
    "def find_unique_words(string):\n",
    " \n",
    "  words = string.split()\n",
    "\n",
    "  \n",
    "  unique_words = set()\n",
    "\n",
    "  \n",
    "  for word in words:\n",
    "    if word not in unique_words:\n",
    "        unique_words.add(word)\n",
    "\n",
    "  \n",
    "  return unique_words"
   ]
  },
  {
   "cell_type": "code",
   "execution_count": null,
   "id": "b820ff1e-fbe0-49ac-9118-eb23bc7d18b3",
   "metadata": {},
   "outputs": [],
   "source": [
    "#.46 Count the number of syllables in a string\n",
    "def syllable_count(word):\n",
    "    count = 0\n",
    "    vowels = [\"a\",\"e\",\"i\",\"o\",\"u\",\"y\"]\n",
    "    if word[0] in vowels:\n",
    "        count += 1\n",
    "    for index in range(1,len(word)):\n",
    "        if word[index] in vowels and word[index - 1] not in vowels:\n",
    "            count += 1\n",
    "        if word.endswith(\"e\"):\n",
    "            count -=1\n",
    "    if count==0:\n",
    "        count +=1\n",
    "    return count"
   ]
  },
  {
   "cell_type": "code",
   "execution_count": null,
   "id": "f7a02233-eaf9-4250-bcf5-768f8bbb43bc",
   "metadata": {},
   "outputs": [],
   "source": [
    "syllable_count(\"wear\")"
   ]
  },
  {
   "cell_type": "code",
   "execution_count": null,
   "id": "b4581463-32db-460e-8c33-889cab0ddefd",
   "metadata": {},
   "outputs": [],
   "source": [
    "#47. Check if a string contains any special characters\n",
    "s = input(\"enter string please\")\n",
    "N = 0\n",
    "for i in s:\n",
    "    if i.isalpha() or i.isnumeric() or i == \" \":\n",
    "        pass\n",
    "    else:\n",
    "        N = N + 1\n",
    "if N>0:\n",
    "    print (\"YES\")\n",
    "else:\n",
    "    print (\"NO\")"
   ]
  },
  {
   "cell_type": "code",
   "execution_count": null,
   "id": "f16b80e9-4a3e-44b8-8da7-8b97f0c297a5",
   "metadata": {},
   "outputs": [],
   "source": [
    "#48. Remove the nth word from a string\n",
    "def remove_nth_word(string, n):\n",
    "    words = string.split()\n",
    "    del words[n-1]\n",
    "    return \" \".join(words)"
   ]
  },
  {
   "cell_type": "code",
   "execution_count": null,
   "id": "f6e429ad-4b64-4b5e-8b20-fb2004e09789",
   "metadata": {},
   "outputs": [],
   "source": [
    "remove_nth_word(\"haidar is not an iitian\",3)"
   ]
  },
  {
   "cell_type": "code",
   "execution_count": null,
   "id": "78d7a5aa-2e71-4cab-847d-84491ca72702",
   "metadata": {},
   "outputs": [],
   "source": [
    "#49. Insert a word at the nth position in a string\n",
    "def insert (source_str, insert_str, pos):\n",
    "    return source_str[:pos] + insert_str + source_str[pos:]"
   ]
  },
  {
   "cell_type": "code",
   "execution_count": null,
   "id": "0532b4d1-01cc-46c1-ac20-c5ad61db9d1d",
   "metadata": {},
   "outputs": [],
   "source": [
    "insert(\"i love python\", \"awsome\",7)"
   ]
  },
  {
   "cell_type": "code",
   "execution_count": null,
   "id": "8e33ae83-00be-43d8-bba3-2d1624b036bc",
   "metadata": {},
   "outputs": [],
   "source": [
    "#50. Convert a CSV string to a list of lists.\n",
    "import csv\n",
    "\n",
    "csv_string = \"\"\"\n",
    "1,2,3\n",
    "4,5,6\n",
    "7,8,9\n",
    "\"\"\"\n",
    "reader = csv.reader(csv_string.splitlines())\n",
    "parsed_csv = list(reader)"
   ]
  },
  {
   "cell_type": "markdown",
   "id": "e5b35eab-6a7c-4e0b-acf4-1bd5ffa46255",
   "metadata": {
    "jp-MarkdownHeadingCollapsed": true,
    "tags": []
   },
   "source": [
    "### List Based Practice Problem "
   ]
  },
  {
   "cell_type": "code",
   "execution_count": null,
   "id": "de9ced2d-4cf0-40fa-a146-5f9f89648166",
   "metadata": {},
   "outputs": [],
   "source": [
    "#1.List Based Practice Problem\n",
    "number = list(range(1,11))"
   ]
  },
  {
   "cell_type": "code",
   "execution_count": null,
   "id": "8a2651b1-a001-40c8-a010-cd3a7e73985f",
   "metadata": {},
   "outputs": [],
   "source": [
    "#2. Find the length of a list without using the `len()` function.\n",
    "def string_length(my_string):\n",
    "    counter = 0\n",
    "    for char in my_string:\n",
    "        counter += 1\n",
    "    return counter\n",
    "\n",
    "\n",
    "string_input = input(\"enter string :\")\n",
    "length = string_length(string_input)\n",
    "\n",
    "print(\"length is \", length)"
   ]
  },
  {
   "cell_type": "code",
   "execution_count": null,
   "id": "93a94ddf-0b7d-4371-b1cc-55da59099241",
   "metadata": {},
   "outputs": [],
   "source": [
    "# 3. Append an element to the end of a list.\n",
    "fruit_list = []\n",
    "\n",
    "print(f'Current Fruits List {fruit_list}')\n",
    "\n",
    "new_fruit = input(\"Please enter a fruit name:\\n\")\n",
    "\n",
    "fruit_list.append(new_fruit)\n",
    "\n",
    "print(f'Updated Fruits List {fruit_list}')"
   ]
  },
  {
   "cell_type": "code",
   "execution_count": null,
   "id": "f2357467-b17b-490f-98be-a13f4fb02b76",
   "metadata": {},
   "outputs": [],
   "source": [
    "# 4. Insert an element at a specific index in a list.\n",
    "list = ['Sun', 'rises', 'in', 'the', 'east'] \n",
    "list.insert(0, \"The\") \n",
    "print(list)"
   ]
  },
  {
   "cell_type": "code",
   "execution_count": null,
   "id": "d380bffc-1b34-4ec5-adb2-0a3719dcb776",
   "metadata": {},
   "outputs": [],
   "source": [
    "# 5. Remove an element from a list by its value.\n",
    "lst = ['Iris', 'Orchids', 'Rose', 'Lavender',\n",
    "    'Lily', 'Carnations']\n",
    "print(\"Original List is :\", lst)\n",
    "lst.remove(input(\"ENTER ELEMNT:-\"))\n",
    "print(\"After deleting the item :\", lst)"
   ]
  },
  {
   "cell_type": "code",
   "execution_count": null,
   "id": "aaf6b6e0-c407-485e-80da-a3ea48bb380d",
   "metadata": {},
   "outputs": [],
   "source": [
    "#6. Remove an element from a list by its index.\n",
    "lst =['Iris', 'Orchids', 'Rose', 'Lavender',\n",
    "    'Lily', 'Carnations']\n",
    "print(\"Original List is :\", lst)\n",
    "lst.pop(int(input(\"ENTER INDEX\")))\n",
    "print(\"After deleting the item :\", lst)"
   ]
  },
  {
   "cell_type": "code",
   "execution_count": null,
   "id": "30cc98f7-10f9-4973-ae5d-7c231e8b0fd4",
   "metadata": {},
   "outputs": [],
   "source": [
    "#7. Check if an element exists in a list.\n",
    "lst = ['Sun', 'rises', 'in', 'the', 'east'] \n",
    "print(\"Original List is :\", lst)\n",
    "i = (input(\"ENTER ELEMNT:-\"))\n",
    "if i in lst:\n",
    "    print(\"YES\")\n",
    "else:\n",
    "    print(\"NO\")"
   ]
  },
  {
   "cell_type": "code",
   "execution_count": null,
   "id": "6477210b-a0c9-4517-88c4-630b1bd2816e",
   "metadata": {},
   "outputs": [],
   "source": [
    "# 8.Find the index of the first occurrence of an element in a list.\n",
    "lst = ['Sun', 'rises', 'in', 'the', 'east'] \n",
    "print(\"Original List is :\", lst)\n",
    "l = lst.index((input()))\n",
    "print(l)      "
   ]
  },
  {
   "cell_type": "code",
   "execution_count": null,
   "id": "b56de6fe-afdc-4e1f-8476-1f2f990ff865",
   "metadata": {},
   "outputs": [],
   "source": [
    "#9. Count the occurrences of an element in a list.\n",
    "def countX(lst, x):\n",
    "    count = 0\n",
    "    for ele in lst:\n",
    "        if (ele == x):\n",
    "            count = count + 1\n",
    "    return count"
   ]
  },
  {
   "cell_type": "code",
   "execution_count": null,
   "id": "ea5cf5f3-8785-4774-8b4c-508976b98e23",
   "metadata": {},
   "outputs": [],
   "source": [
    "#10. Reverse the order of elements in a list.\n",
    "list1 = input(\"ENTER LIST HERE\")\n",
    "reversed_list = list1[::-1]\n",
    "print(reversed_list)"
   ]
  },
  {
   "cell_type": "code",
   "execution_count": null,
   "id": "80930685-1b5a-4d34-a94c-71fb31d922f2",
   "metadata": {},
   "outputs": [],
   "source": [
    "#11. Sort a list in ascending order.\n",
    "list1 = input(\"ENTER LIST HERE\")\n",
    "sort= sorted(list1)\n",
    "i = [\",\"]\n",
    "if i in sort:\n",
    "    None\n",
    "print(sort)"
   ]
  },
  {
   "cell_type": "code",
   "execution_count": null,
   "id": "167e7e81-6f5c-43b8-be84-ec76683867d8",
   "metadata": {},
   "outputs": [],
   "source": [
    "#12. Sort a list in descending order.\n",
    "list = [1,2,3,4,5,0]\n",
    "\n",
    "sorted_list = sorted(list, reverse=True)\n",
    "\n",
    "print(sorted_list)"
   ]
  },
  {
   "cell_type": "code",
   "execution_count": null,
   "id": "0b65360b-2d28-4495-a8af-cce1dfcc8107",
   "metadata": {},
   "outputs": [],
   "source": [
    "#13Create a list of even numbers from 1 to 20.\n",
    "l1 = [1,2,3,4,5,6,7,8,9,10,11,12,13,14,15,16,17,18,19,20]\n",
    "for i in l1:\n",
    "    if i%2 == 0:\n",
    "        print(i)"
   ]
  },
  {
   "cell_type": "code",
   "execution_count": null,
   "id": "ee1675a1-71b0-4e0f-bebc-473a7c240333",
   "metadata": {},
   "outputs": [],
   "source": [
    "#14. Create a list of odd numbers from 1 to 20.\n",
    "l1 = [1,2,3,4,5,6,7,8,9,10,11,12,13,14,15,16,17,18,19,20]\n",
    "for i in l1:\n",
    "    if i%2 != 0:\n",
    "        print(i)\n",
    "    "
   ]
  },
  {
   "cell_type": "code",
   "execution_count": null,
   "id": "7a71ff80-ded7-4e36-8e8b-8206f520a146",
   "metadata": {},
   "outputs": [],
   "source": [
    "#15. Find the sum of all elements in a list.\n",
    "total = 0\n",
    "l1 = [1,2,3,4,5,6,7,8,9,11,10,12,13,14,15,16,17,18,19,20]\n",
    " \n",
    "for ele in range(0, len(l1)):\n",
    "    total = total + l1[ele]\n",
    "print(\"Sum of all elements in given list: \", total)\n"
   ]
  },
  {
   "cell_type": "code",
   "execution_count": null,
   "id": "d655c27e-66b7-45ac-abd0-dcb783ce08dd",
   "metadata": {},
   "outputs": [],
   "source": [
    "#16. Find the maximum value in a list.\n",
    "l1 = [1,2,3,4,5,6,7,8,9,11,10,12,13,14,15,16,17,18,19,20]\n",
    "M = max(l1)\n",
    "print(M)"
   ]
  },
  {
   "cell_type": "code",
   "execution_count": null,
   "id": "9a019c7e-5a2a-4bf2-b5e6-7fe875da085c",
   "metadata": {},
   "outputs": [],
   "source": [
    "#17. Find the minimum value in a list.\n",
    "l1 = [1,2,3,4,5,6,7,8,9,10,11,12,13,14,15,16,17,18,19,20]\n",
    "N = min(l1)\n",
    "print(N)"
   ]
  },
  {
   "cell_type": "code",
   "execution_count": null,
   "id": "88032ae5-2c3b-41a2-a175-aac48555cda9",
   "metadata": {},
   "outputs": [],
   "source": [
    "#18. Create a list of squares of numbers from 1 to 10.\n",
    "l1 = [1,2,3,4,5,6,7,8,9,10]\n",
    "for i in l1:\n",
    "    i = i*i\n",
    "    print(i)"
   ]
  },
  {
   "cell_type": "code",
   "execution_count": null,
   "id": "c98004bb-36eb-44b0-9b1c-8f34e4b9c4cf",
   "metadata": {},
   "outputs": [],
   "source": [
    "#19. Create a list of random numbers.\n",
    "import random\n",
    "number = random.random()\n",
    "print(number)\n"
   ]
  },
  {
   "cell_type": "code",
   "execution_count": null,
   "id": "d3a1b6e7-3633-4e92-9933-21f198696888",
   "metadata": {},
   "outputs": [],
   "source": [
    "#20. Remove duplicates from a list.\n",
    "test_list = (input(\"ENTER LIST\"))\n",
    "print (\"The original list is : \"\n",
    "        + str(test_list))\n",
    "test_list = (set(test_list))\n",
    "print (\"The list after removing duplicates : \"\n",
    "        + str(test_list))\n",
    "#\"\"\"please enter without \",\" \"\"\"#"
   ]
  },
  {
   "cell_type": "code",
   "execution_count": null,
   "id": "31ad6ee6-4389-4be0-875b-3a0917ced39d",
   "metadata": {},
   "outputs": [],
   "source": [
    "# 21. Find the common elements between two lists\n",
    "list1 =  (input(\"ENTER LIST\"))\n",
    "list2= (input(\"ENTER LIST\"))\n",
    "NEW = []\n",
    "for i in list1:\n",
    "    if i in list2:\n",
    "        NEW.append(i)\n",
    "print(NEW)\n",
    "#ENTER WITHOUT \",\""
   ]
  },
  {
   "cell_type": "code",
   "execution_count": null,
   "id": "50a93d83-c07a-4ffc-9d33-7f18eb9b4423",
   "metadata": {},
   "outputs": [],
   "source": [
    "#  22. Find the difference between two lists\n",
    "list1 =  (input(\"ENTER LIST\"))\n",
    "list2= (input(\"ENTER LIST\"))\n",
    "NEW = []\n",
    "for i in list1:\n",
    "    if  i not in list2:\n",
    "            NEW.append(i)\n",
    "print(NEW)      \n",
    "#ENTER WITHOUT \",\""
   ]
  },
  {
   "cell_type": "code",
   "execution_count": null,
   "id": "f2d616a3-8dca-4129-ba7c-781a257bf694",
   "metadata": {},
   "outputs": [],
   "source": [
    "# 23.Merge two lists\n",
    "list1 =  (input(\"ENTER LIST\"))\n",
    "list2= (input(\"ENTER LIST\"))\n",
    "print((list1 + list2))"
   ]
  },
  {
   "cell_type": "code",
   "execution_count": null,
   "id": "865756fe-8f74-4695-8b4f-8bdae16d6d35",
   "metadata": {},
   "outputs": [],
   "source": [
    "# 24. Multiply all elements in a list by 2\n",
    "my_list = [1, 2, 3, 4, 5]\n",
    "my_new_list = [i * 2 for i in my_list]\n",
    "\n",
    "print(my_new_list)\n"
   ]
  },
  {
   "cell_type": "code",
   "execution_count": null,
   "id": "606f6a78-41cb-41b6-8f9f-c957f826fe88",
   "metadata": {},
   "outputs": [],
   "source": [
    "#25 . Filter out all even numbers from a list\n",
    "def is_even(number):\n",
    "    return number % 2 == 0\n",
    "\n",
    "numbers = list(map(int, input(\"Enter the numbers: \").split()))\n",
    "\n",
    "even_numbers = list(filter(is_even, numbers))\n",
    "\n",
    "print(\"The even numbers are:\", even_numbers)"
   ]
  },
  {
   "cell_type": "code",
   "execution_count": null,
   "id": "2c27b648-3fcd-43ff-9bb3-39ec1ccd60d7",
   "metadata": {},
   "outputs": [],
   "source": [
    "# 26. Convert a list of strings to a list of integers\n",
    "def convert_string_list_to_int_list(string_list):\n",
    "    int_list = [int(x) for x in string_list]\n",
    "    return int_list\n",
    "\n",
    "string_list =[\"1\", \"2\", \"3\"]\n",
    "int_list = convert_string_list_to_int_list(string_list)\n",
    "print(int_list)"
   ]
  },
  {
   "cell_type": "code",
   "execution_count": null,
   "id": "bc2764c6-81c2-4d31-b4e9-513131ed1b55",
   "metadata": {},
   "outputs": [],
   "source": [
    "# 27. Convert a list of integers to a list of strings.\n",
    "def convert_to_str(ints):\n",
    "    strings = []\n",
    "    for int in ints:\n",
    "        strings.append(str(int))\n",
    "    return strings\n",
    "\n",
    "ints = input(\"Enter a list of integers: \")\n",
    "print(convert_to_str(ints))"
   ]
  },
  {
   "cell_type": "code",
   "execution_count": null,
   "id": "9b82e73a-3174-4628-9adc-df6c6582fe8e",
   "metadata": {},
   "outputs": [],
   "source": [
    "# 28. Flatten a nested list\n",
    "def flat(lis):\n",
    "    flatList = []\n",
    "\n",
    "    for element in lis:\n",
    "        if type(element) is list:\n",
    "\n",
    "            for item in element:\n",
    "                flatList.append(item)\n",
    "        else:\n",
    "            flatList.append(element)\n",
    "    return flatList\n",
    "\n",
    "\n",
    "lis =[input(\"ENTER TWO LIST\")]\n",
    "print('List', lis)\n",
    "print('Flat List', flat(lis))"
   ]
  },
  {
   "cell_type": "code",
   "execution_count": null,
   "id": "81a2974e-1bd7-48e4-b39f-47053a628107",
   "metadata": {},
   "outputs": [],
   "source": [
    "# 29. Create a list of the first 10 Fibonacci numbers\n",
    "n = 10\n",
    "num1 = 0\n",
    "num2 = 1\n",
    "num3 = num1  \n",
    "count = 1\n",
    " \n",
    "while count <= n:\n",
    "    print(num3, end=\" \")\n",
    "    count += 1\n",
    "    num1, num2 = num2, num3\n",
    "    num3 = num1 + num2"
   ]
  },
  {
   "cell_type": "code",
   "execution_count": null,
   "id": "d745054e-2f2c-4665-a24d-06c97f982c23",
   "metadata": {},
   "outputs": [],
   "source": [
    "# 30. Check if a list is sorted.\n",
    "list_a = input(\"ENER LIST \")\n",
    "\n",
    "is_sorted = True\n",
    "\n",
    "for i in range(len(list_a) - 1):\n",
    "    if list_a[i] >= list_a[i + 1]:\n",
    "        is_sorted = False\n",
    "\n",
    "if is_sorted:\n",
    "    print(\"The list is sorted.\")\n",
    "else:\n",
    "    print(\"The list is not sorted.\")\n",
    "    #ENTER WITHOUT \",\" AND SPACE"
   ]
  },
  {
   "cell_type": "code",
   "execution_count": null,
   "id": "be8ef98c-aa5a-4aca-96cb-e1d2f100f55a",
   "metadata": {},
   "outputs": [],
   "source": [
    "# 31. rotate a list to the left by `n` positions.\n",
    "def rotate_left(list, n):\n",
    "    return list[n:] + list[:n]"
   ]
  },
  {
   "cell_type": "code",
   "execution_count": null,
   "id": "444e5618-f694-4f42-93d5-305f4752c944",
   "metadata": {},
   "outputs": [],
   "source": [
    "#  32. Rotate a list to the right by `n` positions.\n",
    "import numpy as np\n",
    "\n",
    "def rotate_right(list, n):\n",
    "    return np.roll(list, n)"
   ]
  },
  {
   "cell_type": "code",
   "execution_count": null,
   "id": "c1e68d24-8ee9-4fd5-ae88-0878fe84a2d5",
   "metadata": {},
   "outputs": [],
   "source": [
    "# 33. Create a list of prime numbers up to 50\n",
    "for nu in range(2,51):\n",
    "    if all(nu%i!=0 for i in range(2,nu)):\n",
    "        print (nu)"
   ]
  },
  {
   "cell_type": "code",
   "execution_count": null,
   "id": "912ef785-2b95-4db4-b93a-0c74d510d5d4",
   "metadata": {},
   "outputs": [],
   "source": [
    "# 34. Split a list into chunks of size `n`.\n",
    "def split_chunks(list, N):\n",
    "    chunks = []\n",
    "    for i in range(0, len(list),N):\n",
    "        chunks.append(list[i:i+N])\n",
    "    return chunks"
   ]
  },
  {
   "cell_type": "code",
   "execution_count": null,
   "id": "c0aade3b-77c9-4e9a-8f01-642a5cde5924",
   "metadata": {},
   "outputs": [],
   "source": [
    "#35. Find the second largest number in a list\n",
    "list1 = [10, 20, 4, 45, 99]\n",
    " \n",
    "mx = max(list1[0], list1[1]) \n",
    "secondmax = min(list1[0], list1[1]) \n",
    "n = len(list1)\n",
    "for i in range(2,n): \n",
    "    if list1[i] > mx: \n",
    "        secondmax = mx\n",
    "        mx = list1[i] \n",
    "    elif list1[i] > secondmax and \\\n",
    "        mx != list1[i]: \n",
    "        secondmax = list1[i]\n",
    "    elif mx == secondmax and \\\n",
    "        secondmax != list1[i]:\n",
    "          secondmax = list1[i]\n",
    "print(\"Second highest number is : \",\\\n",
    "      str(secondmax))"
   ]
  },
  {
   "cell_type": "code",
   "execution_count": null,
   "id": "610c7670-e078-401f-9ea9-0005c798bf03",
   "metadata": {},
   "outputs": [],
   "source": [
    "# 36. Replace every element in a list with its square\n",
    "list1 =  [21,2,3,4,5]\n",
    "for i in list1:\n",
    "    i = i**2\n",
    "    print(i)"
   ]
  },
  {
   "cell_type": "code",
   "execution_count": null,
   "id": "3ee24b77-2f69-4e6e-aaf4-0711b7a452f9",
   "metadata": {},
   "outputs": [],
   "source": [
    "#  37. Convert a list to a dictionary where list elements become keys and their indices become values\n",
    "list1 = input()\n",
    "new_one = dict(enumerate(list1))\n",
    "print (new_one)"
   ]
  },
  {
   "cell_type": "code",
   "execution_count": null,
   "id": "75529f8a-2b21-4857-8d75-3fd784e4337e",
   "metadata": {},
   "outputs": [],
   "source": [
    "#38. Shuffle the elements of a list randomly\n",
    "import random\n",
    "def suffule(list):\n",
    "    random.shuffle(list)\n",
    "    return list\n",
    "    "
   ]
  },
  {
   "cell_type": "code",
   "execution_count": null,
   "id": "c597aed5-f65d-4445-959d-1ec9a6eaa1eb",
   "metadata": {},
   "outputs": [],
   "source": [
    "#  39. Create a list of the first 10 factorial numbers\n",
    "def factorial(n):\n",
    "    if n == 0:\n",
    "        return 1\n",
    "    else:\n",
    "        return n * factorial(n - 1)\n",
    "\n",
    "factorials = []\n",
    "for i in range(10):\n",
    "    factorials.append(factorial(i))\n",
    "\n",
    "print(factorials)"
   ]
  },
  {
   "cell_type": "code",
   "execution_count": null,
   "id": "3f01041a-bc1c-4992-a907-3ce32177aa41",
   "metadata": {},
   "outputs": [],
   "source": [
    "# 40.Check if two lists have at least one element in common\n",
    "def common(list1,list2):\n",
    "    for i in list1:\n",
    "        if i in list2:\n",
    "            print(i)\n",
    "    else:\n",
    "        print(\"NO MATCH FOUND\")\n"
   ]
  },
  {
   "cell_type": "code",
   "execution_count": null,
   "id": "41a98e91-3ebb-41c0-a82b-cfdc3746e490",
   "metadata": {},
   "outputs": [],
   "source": [
    "# 41 Remove all elements from a list.\n",
    "list =[input(\"ENTER list\")]\n",
    "list.clear()\n",
    "print(list)"
   ]
  },
  {
   "cell_type": "code",
   "execution_count": null,
   "id": "64cc4cc1-6074-4a3c-bd22-b44dae5cc75a",
   "metadata": {},
   "outputs": [],
   "source": [
    "#  42. Replace negative numbers in a list with 0.\n",
    "def negative(list):\n",
    "    for i in range(len(list)):\n",
    "        if list[i] < 0:\n",
    "            list[i] = 0\n",
    "    print(list)        "
   ]
  },
  {
   "cell_type": "code",
   "execution_count": null,
   "id": "8b53d9dd-f699-4487-9d8b-431edeb15a94",
   "metadata": {},
   "outputs": [],
   "source": [
    "# 43. Convert a string into a list of words\n",
    "string = input(\"PASS A STRING\")\n",
    "words = string.split()\n",
    "print(words)"
   ]
  },
  {
   "cell_type": "code",
   "execution_count": null,
   "id": "ed6e6d71-90e0-49d5-8acb-56b32c8c8c48",
   "metadata": {},
   "outputs": [],
   "source": [
    "#44. Convert a list of words into a string.\n",
    "def list_2_string(l):\n",
    "    s = \"\"\n",
    "    for i in l:\n",
    "        s += i\n",
    "    return s    \n",
    "        "
   ]
  },
  {
   "cell_type": "code",
   "execution_count": 86,
   "id": "174bf44e-336f-4659-93e4-c16874ee9712",
   "metadata": {},
   "outputs": [],
   "source": [
    "# 45. Create a list of the first `n` powers of 2.\n",
    "def problem(n):\n",
    "    myList = []\n",
    "    for i in range(len(n)):\n",
    "        number = i**2\n",
    "        myList.append(number)\n",
    "    return myList"
   ]
  },
  {
   "cell_type": "code",
   "execution_count": 91,
   "id": "492ccc13-61ea-4720-8f2a-a029776560d8",
   "metadata": {},
   "outputs": [],
   "source": [
    "# 46. Find the longest string in a list of strings.\n",
    "def  longest_tring(list):\n",
    "    max_len = -1\n",
    "    for i in list:\n",
    "        if len(i) > max_len:\n",
    "            max_len = len(i)\n",
    "            result = i\n",
    "    return i"
   ]
  },
  {
   "cell_type": "code",
   "execution_count": 110,
   "id": "49e44e18-68b4-4747-bcba-9d6d072c07cd",
   "metadata": {},
   "outputs": [],
   "source": [
    "# 47. Find the shortest string in a list of strings\n",
    "def shortest_string(list):\n",
    "    print(\"The original list : \" + str(list))\n",
    "    min_len = 9999999\n",
    "    for i in list:\n",
    "        if len(i) < min_len:\n",
    "            min_len = len(i)\n",
    "            result=i\n",
    "    return  result \n",
    "    \n",
    "    "
   ]
  },
  {
   "cell_type": "code",
   "execution_count": null,
   "id": "259ce40f-47dd-4271-aa78-29fda3840097",
   "metadata": {},
   "outputs": [],
   "source": [
    "# 48. Create a list of the first `n` triangular numbers\n",
    "n = int(input(\"ENTER N\"))\n",
    "triangle_nums = []\n",
    "num = 0\n",
    "\n",
    "for i in range(1, n+1):\n",
    "    num += i\n",
    "    triangle_nums.append(num)\n",
    "print(triangle_nums)"
   ]
  },
  {
   "cell_type": "code",
   "execution_count": null,
   "id": "ed86e4cf-ff33-4f90-a336-2ccb53413b79",
   "metadata": {},
   "outputs": [],
   "source": [
    "#  49. Check if a list contains another list as a subsequence\n",
    "def is_subsequence(l,L):\n",
    "      \n",
    "    for i in range(len(L)-len(l)+1):\n",
    "        for j in range(len(l)):\n",
    "            if L[i + j] != l[j]:\n",
    "                break\n",
    "        else:\n",
    "            return True\n",
    "     \n",
    "    return False\n",
    "print(is_subsequence(l,L))"
   ]
  },
  {
   "cell_type": "code",
   "execution_count": null,
   "id": "6f5e5552-f5e4-4977-b306-e8d60ab3b159",
   "metadata": {},
   "outputs": [],
   "source": [
    "#  50. Swap two elements in a list by their indices\n",
    "def swapelement(list,index_1 , index_2):\n",
    "    T = list[index_1]\n",
    "    list[index_1] = list[index_2]\n",
    "    list[index_2] = T\n",
    "    return  list"
   ]
  },
  {
   "cell_type": "markdown",
   "id": "c224841f-c4c0-4df3-a558-965107ddce2b",
   "metadata": {
    "jp-MarkdownHeadingCollapsed": true,
    "tags": []
   },
   "source": [
    " ### TUPLE BASED PROBLEM"
   ]
  },
  {
   "cell_type": "code",
   "execution_count": 49,
   "id": "9f5da2c1-e3ba-4d07-95a1-6a8aeff9465f",
   "metadata": {},
   "outputs": [
    {
     "name": "stdout",
     "output_type": "stream",
     "text": [
      "(1, 2, 3, 4, 5)\n"
     ]
    }
   ],
   "source": [
    "#  1. Create a tuple with integers from 1 to 5\n",
    "T = tuple(range(1,6))\n",
    "print(T)"
   ]
  },
  {
   "cell_type": "code",
   "execution_count": null,
   "id": "9ad96e48-25c8-45b6-98b0-56b21a2b4006",
   "metadata": {},
   "outputs": [],
   "source": [
    "#  2. Access the third element of a tuple.\n",
    "my_tuple = (1, 2, 3)\n",
    "\n",
    "print(my_tuple[2])"
   ]
  },
  {
   "cell_type": "code",
   "execution_count": 6,
   "id": "cc92499b-e2b8-4399-a28c-069aff104f59",
   "metadata": {},
   "outputs": [],
   "source": [
    "# 3. Find the length of a tuple without using the `len()` function\n",
    "def tuple_len(tuple):\n",
    "    counter = 0\n",
    "    for i in tuple:\n",
    "        counter += 1\n",
    "    return counter    "
   ]
  },
  {
   "cell_type": "code",
   "execution_count": 20,
   "id": "597cfb46-9850-4929-ba29-4586c189c6eb",
   "metadata": {},
   "outputs": [],
   "source": [
    "# 4. Count the occurrences of an element in a tuple\n",
    "def countX(tuple, x):\n",
    "    count = 0\n",
    "    for i in tuple:\n",
    "        if (i== x):\n",
    "            count = count + 1\n",
    "    return count"
   ]
  },
  {
   "cell_type": "code",
   "execution_count": null,
   "id": "68eaa475-0e41-456e-9384-8da471d6aac2",
   "metadata": {},
   "outputs": [],
   "source": [
    "# 5.Find the index of the first occurrence of an element in a tuple\n",
    "my_tuple = input(\"ENTER TUPLE\")\n",
    "n = input(\"ENTER INDEX\")\n",
    "print(my_tuple.index(n))"
   ]
  },
  {
   "cell_type": "code",
   "execution_count": 74,
   "id": "b851e0ed-ffa7-465f-a076-2bcdcbb11e14",
   "metadata": {},
   "outputs": [],
   "source": [
    "# 6. Check if an element exists in a tuple\n",
    "def element_exist(tuple,ele):\n",
    "    for i in tuple:\n",
    "        if i == ele:\n",
    "            print(\"YES element exists\",ele)\n",
    "            break\n",
    "    else:\n",
    "        print(\"NO! element NOT exists\")"
   ]
  },
  {
   "cell_type": "code",
   "execution_count": 82,
   "id": "fd19f634-9308-4e80-b11a-4a66d6a699a8",
   "metadata": {},
   "outputs": [],
   "source": [
    "# 7. Convert a tuple to a list\n",
    "def tuple_2_list(tuple):\n",
    "    r = list(tuple)\n",
    "    return r"
   ]
  },
  {
   "cell_type": "code",
   "execution_count": 81,
   "id": "2ef6d127-0671-491c-8687-6f34decaaed7",
   "metadata": {},
   "outputs": [],
   "source": [
    "#  8. Convert a list to a tuple\n",
    "def list_2_tuple(list):\n",
    "    r = tuple(list)\n",
    "    return r"
   ]
  },
  {
   "cell_type": "code",
   "execution_count": 3,
   "id": "19f9b83c-83e8-438a-a68d-2cfa5e05a3fb",
   "metadata": {},
   "outputs": [
    {
     "name": "stdout",
     "output_type": "stream",
     "text": [
      ":-- MNNIT Allahabad\n",
      ":-- 5000\n",
      ":-- Engineering\n"
     ]
    }
   ],
   "source": [
    "# 9. Unpack the elements of a tuple into variables.\n",
    "a =  (\"MNNIT Allahabad\", 5000, \"Engineering\")  \n",
    "(college, student, type_ofcollege) = a  \n",
    "print(\":--\",college)\n",
    "print(\":--\",student)\n",
    "print(\":--\",type_ofcollege)\n",
    "## unable to take input"
   ]
  },
  {
   "cell_type": "code",
   "execution_count": 4,
   "id": "aab36bb3-d8f8-4589-92e9-4a9ef60be461",
   "metadata": {},
   "outputs": [],
   "source": [
    "#10. Create a tuple of even numbers from 1 to 10\n",
    "even_numbers = tuple(filter(lambda x: x % 2 == 0, range(1, 11)))"
   ]
  },
  {
   "cell_type": "code",
   "execution_count": 6,
   "id": "227befcd-90b9-4d4d-ab07-4fa4f1ec998d",
   "metadata": {},
   "outputs": [],
   "source": [
    "# 11. Create a tuple of odd numbers from 1 to 10\n",
    "odd_numbers = tuple(filter(lambda x: x % 2 !=0, range(1, 11)))"
   ]
  },
  {
   "cell_type": "code",
   "execution_count": 16,
   "id": "a2f16aad-9e8f-4fdd-8c4c-742175f434d6",
   "metadata": {},
   "outputs": [],
   "source": [
    "# 12. Concatenate two tuples\n",
    "def  Concatenate(tuple1,tuple2):\n",
    "    new_tuple = tuple1 + tuple2\n",
    "    return(new_tuple)"
   ]
  },
  {
   "cell_type": "code",
   "execution_count": 18,
   "id": "b12b66dd-5226-4030-b334-97667ac57340",
   "metadata": {},
   "outputs": [],
   "source": [
    "# 13. Repeat a tuple three times.\n",
    "def repe_tuple(tuple):\n",
    "    return tuple*3"
   ]
  },
  {
   "cell_type": "code",
   "execution_count": 26,
   "id": "52618ba9-53d6-4cf4-9074-d40ab18dcaf7",
   "metadata": {},
   "outputs": [],
   "source": [
    "#  14. Check if a tuple is empty\n",
    "def cheker(tuple):\n",
    "    if tuple == ():\n",
    "        print(\"YES\")\n",
    "    else:\n",
    "        print(\"NO\")"
   ]
  },
  {
   "cell_type": "code",
   "execution_count": 42,
   "id": "fcdc3aab-3508-4d46-915d-a7ae8c4f5040",
   "metadata": {},
   "outputs": [],
   "source": [
    "#  15. Create a nested tuple.\n",
    "def  NESTED(tuple1,tuple2):\n",
    "    return tuple1,(tuple2)\n",
    "   "
   ]
  },
  {
   "cell_type": "code",
   "execution_count": 60,
   "id": "7ec25209-ac2b-480a-921f-a0ee62371f68",
   "metadata": {},
   "outputs": [],
   "source": [
    "# 16. Access the first element of a nested tuple\n",
    "def access(tuple):\n",
    "    return tuple[0]"
   ]
  },
  {
   "cell_type": "code",
   "execution_count": null,
   "id": "c65de9a5-5436-44dd-8f59-d50cdbd1812f",
   "metadata": {},
   "outputs": [],
   "source": [
    "#17. Create a tuple with a single element\n",
    "list= input(\"ENTER 1 NUMBER ONLY WITH END OF ,\")\n",
    "print(tuple)"
   ]
  },
  {
   "cell_type": "code",
   "execution_count": 106,
   "id": "9bcaf1e2-101b-47b3-b246-fb2c31d97e25",
   "metadata": {},
   "outputs": [],
   "source": [
    "#  18. Compare two tuples.\n",
    "def compare(tuple1,tuple2):\n",
    "    for i in tuple1:\n",
    "        for j in tuple2:\n",
    "             i == j\n",
    "        print(i)\n",
    "    return(\"NO MATCH FOUND\")"
   ]
  },
  {
   "cell_type": "code",
   "execution_count": 108,
   "id": "70e2dad3-ccc9-43cc-8b30-bfc93296ed4e",
   "metadata": {},
   "outputs": [],
   "source": [
    "#19. Delete a tuple.\n",
    "def deleter(tuple):\n",
    "    return ()"
   ]
  },
  {
   "cell_type": "code",
   "execution_count": 116,
   "id": "6b80c75d-dd15-40cd-a318-708af421210b",
   "metadata": {},
   "outputs": [],
   "source": [
    "#  20. Slice a tuple.\n",
    "def slice1(tuple,start,stop):\n",
    "    slice2 = tuple[start:stop]\n",
    "    return slice2\n",
    "  "
   ]
  },
  {
   "cell_type": "code",
   "execution_count": null,
   "id": "b449268a-a1bb-4d82-9365-24cceeb86a96",
   "metadata": {},
   "outputs": [],
   "source": [
    "# 21. Find the maximum value in a tuple\n",
    "tuple = input(\"ENTER TUPLE\")\n",
    "max_valu = max(tuple)\n",
    "print(\"MAXIMUM TUPLE\",max_valu)"
   ]
  },
  {
   "cell_type": "code",
   "execution_count": 134,
   "id": "ff893d74-ec46-48c8-afa4-d3e7787f6434",
   "metadata": {},
   "outputs": [],
   "source": [
    "#  22. Find the minimum value in a tuple.\n",
    "def mini(Tuple):\n",
    "    r = min(Tuple) \n",
    "    return('Minimum of Tuple is', r)"
   ]
  },
  {
   "cell_type": "code",
   "execution_count": null,
   "id": "866d2060-b0b4-49a6-9e31-f2c764021a4c",
   "metadata": {},
   "outputs": [],
   "source": [
    "#23. Convert a string to a tuple of characters\n",
    "str = input(\"ENTER STRING\")\n",
    "tuple(str)"
   ]
  },
  {
   "cell_type": "code",
   "execution_count": null,
   "id": "fc1a450d-dbb1-4994-bcb5-2f70a0deaa0c",
   "metadata": {},
   "outputs": [],
   "source": [
    "#24. Convert a tuple of characters to a string.\n",
    "def convertTuple(tup):\n",
    "        # initialize an empty string\n",
    "    str = ''\n",
    "    for item in tup:\n",
    "        str = str + item\n",
    "    return str\n",
    " \n",
    "# Driver code\n",
    "tuple = ('r', 'e', 'h', 'a', 'n')\n",
    "str = convertTuple(tuple)\n",
    "print(str)"
   ]
  },
  {
   "cell_type": "code",
   "execution_count": null,
   "id": "603dd389-c640-4180-b12c-de2a844525e3",
   "metadata": {},
   "outputs": [],
   "source": [
    "#25. Create a tuple from multiple data types\n",
    "# Different types of tuples\n",
    "\n",
    "# Empty tuple\n",
    "my_tuple = ()\n",
    "print(my_tuple)\n",
    "\n",
    "# Tuple having integers\n",
    "my_tuple = (1, 2, 3)\n",
    "print(my_tuple)\n",
    "\n",
    "# tuple with mixed datatypes\n",
    "my_tuple = (1, \"Hello\", 3.4)\n",
    "print(my_tuple)\n",
    "\n",
    "# nested tuple\n",
    "my_tuple = (\"mouse\", [8, 4, 6], (1, 2, 3))\n",
    "print(my_tuple)"
   ]
  },
  {
   "cell_type": "code",
   "execution_count": null,
   "id": "8e062e94-c970-450a-9325-fe1b71b37ac9",
   "metadata": {},
   "outputs": [],
   "source": [
    "#26. Check if two tuples are identical.\n",
    "tuple1 = (input())\n",
    "tuple2 = (input())\n",
    "\n",
    "print(tuple1 == tuple2)"
   ]
  },
  {
   "cell_type": "code",
   "execution_count": null,
   "id": "238e4c46-0821-48bc-9532-91721202f80c",
   "metadata": {},
   "outputs": [],
   "source": [
    "#27. Sort the elements of a tuple.\n",
    "tuple = (input())\n",
    "sorted(tuple)\n",
    "#wrie without \",\" and space ()"
   ]
  },
  {
   "cell_type": "code",
   "execution_count": null,
   "id": "3e5c455b-0bff-43d5-af49-94e32d8e12e4",
   "metadata": {},
   "outputs": [],
   "source": [
    "#28. Convert a tuple of integers to a tuple of strings\n",
    "\n",
    "def str_to_tuple(test_str):\n",
    "    def helper(index, temp):\n",
    "        if index >= len(test_str):\n",
    "            if temp:\n",
    "                res.append(int(temp))\n",
    "            return tuple(res)\n",
    "        elif test_str[index].isdigit():\n",
    "            temp += test_str[index]\n",
    "            return helper(index + 1, temp)\n",
    "        elif temp:\n",
    "            res.append(int(temp))\n",
    "            temp = ''\n",
    "        return helper(index + 1, temp)\n",
    "     \n",
    "    res = []\n",
    "    return helper(0, '')\n",
    " \n",
    "test_str = \"(7, 8, 9)\"\n",
    "res = str_to_tuple(test_str)\n",
    "print(\"The tuple after conversion is : \" + str(res))"
   ]
  },
  {
   "cell_type": "code",
   "execution_count": null,
   "id": "4abb7c64-556d-4497-9223-2941efc4da85",
   "metadata": {},
   "outputs": [],
   "source": [
    "#29. Convert a tuple of strings to a tuple of integers.\n",
    "test_str = \"(7, 8, 9)\"\n",
    "res = []\n",
    "temp = ''\n",
    "for char in test_str:\n",
    "    if char.isdigit():\n",
    "        temp += char\n",
    "    elif temp:\n",
    "        res.append(int(temp))\n",
    "        temp = ''\n",
    "if temp:\n",
    "    res.append(int(temp))\n",
    "res = tuple(res)\n",
    "print(\"The tuple after conversion is : \" + str(res))"
   ]
  },
  {
   "cell_type": "code",
   "execution_count": 15,
   "id": "7f5021fe-8906-4e36-9157-0bd2898b63e5",
   "metadata": {},
   "outputs": [],
   "source": [
    "#30 Merge two tuples\n",
    "def  Merge(tuple1,tuple2):\n",
    "    result = (tuple1 + tuple2)\n",
    "    return result"
   ]
  },
  {
   "cell_type": "code",
   "execution_count": null,
   "id": "f90a06eb-c67c-457c-a10d-d0509dd585c7",
   "metadata": {},
   "outputs": [],
   "source": [
    "#31. Flatten a nested tuple\n",
    "def Flatten(tuple):\n",
    "    return [j for i in tuple for j in tuple]\n",
    "tuple = ((1, 2), (3, 4), (5, 6))\n",
    "flattened_tuple = flatten(tuple)\n",
    "print(flattened_tuple)"
   ]
  },
  {
   "cell_type": "code",
   "execution_count": null,
   "id": "494bfcd0-2491-4b88-815f-2e7af58a8f7d",
   "metadata": {},
   "outputs": [],
   "source": [
    "#32. Create a tuple of the first 5 prime numbers.\n",
    "def prime(x, y):\n",
    "    prime_list = []\n",
    "    for i in range(x, y):\n",
    "        if i == 0 or i == 1:\n",
    "            continue\n",
    "        else:\n",
    "            for j in range(2, int(i/2)+1):\n",
    "                if i % j == 0:\n",
    "                    break\n",
    "            else:\n",
    "                prime_list.append(i)\n",
    "    return prime_list\n",
    " \n",
    "# Driver program\n",
    "starting_range = 1\n",
    "ending_range = 6\n",
    "lst = prime(starting_range, ending_range)\n",
    "if len(lst) == 0:\n",
    "    print(\"There are no prime numbers in this range\")\n",
    "else:\n",
    "    print(\"The prime numbers in this range are: \", lst)"
   ]
  },
  {
   "cell_type": "code",
   "execution_count": 19,
   "id": "e965d978-5648-47cf-85c3-6d7b02fb4df5",
   "metadata": {},
   "outputs": [],
   "source": [
    "#33. Check if a tuple is a palindrome.\n",
    "def palindrome(tuple):\n",
    "    if len(tuple) == 0 or len(tuple) == 1:\n",
    "        return \"THIS IS PALANDROME\" \n",
    "    elif tuple[0] == tuple[-1] and palindrome(tuple[1:-1]):\n",
    "        return \"THIS IS PALANDROME\" \n",
    "    else:\n",
    "        \"THIS IS NOT PALINDROME\" "
   ]
  },
  {
   "cell_type": "code",
   "execution_count": 37,
   "id": "1cc29b7f-3f8a-4582-a7f7-d3e1843c280f",
   "metadata": {},
   "outputs": [],
   "source": [
    "#34. Create a tuple of squares of numbers from 1 to 5.\n",
    "squares = tuple(i*i for i in range(1,6))"
   ]
  },
  {
   "cell_type": "code",
   "execution_count": null,
   "id": "0911b859-8a51-459d-b9ba-dea155260fdf",
   "metadata": {},
   "outputs": [],
   "source": [
    "#35. Filter out all even numbers from a tuple\n",
    "def even_tuples(lst,newlst=[],start=0):\n",
    "  if start==len(lst):  \n",
    "    return newlst\n",
    "  for i in lst[start]:\n",
    "    if i%2!=0:\n",
    "      return even_tuples(lst,newlst,start+1)\n",
    "  else:\n",
    "    newlst.append(lst[start])\n",
    "  return even_tuples(lst,newlst,start+1)\n",
    "\n",
    "test_list = [(6, 4, 2, 8), (5, 6, 7, 6), (8, 0, 2), (7, )]\n",
    " \n",
    "\n",
    "print(\"The original list is : \" + str(test_list))\n",
    " \n",
    "res_list = even_tuples(test_list)\n",
    " \n",
    "\n",
    "print(\"Filtered Tuples : \" + str(res_list))"
   ]
  },
  {
   "cell_type": "code",
   "execution_count": 105,
   "id": "ca4fdb51-6ac7-44f1-a835-ef602e560b29",
   "metadata": {},
   "outputs": [],
   "source": [
    "#36. Multiply all elements in a tuple by 2\n",
    "def double(test_tup):\n",
    "    res = ()\n",
    "    for ele in test_tup:\n",
    "        res += (ele * 2,)\n",
    "    print(res)"
   ]
  },
  {
   "cell_type": "code",
   "execution_count": 2,
   "id": "cd5bc87c-752b-4e66-96aa-155d926d9470",
   "metadata": {},
   "outputs": [
    {
     "name": "stdout",
     "output_type": "stream",
     "text": [
      "The N random tuples :[(9, 9), (9, 2), (0, 9), (3, 9), (10, 6)]\n"
     ]
    }
   ],
   "source": [
    "#37. Create a tuple of random numbers.\n",
    "import random\n",
    "import itertools\n",
    "N = 5\n",
    "R = 10\n",
    " \n",
    "ran = random.sample(list(itertools.product(range(R + 1), repeat = 2)), N)\n",
    "print(\"The N random tuples :\" + str(ran)) "
   ]
  },
  {
   "cell_type": "code",
   "execution_count": 25,
   "id": "04647c2b-8e5c-4518-8f50-6fded8fedc54",
   "metadata": {},
   "outputs": [],
   "source": [
    "#38. Check if a tuple is sorted\n",
    "def check_sorted(t):\n",
    "    assert len(t) >= 2\n",
    "\n",
    "    ascending =  t[1] > t[0]\n",
    "    norm = lambda d : d if ascending else -d\n",
    "    for i in range(2, len(t)):\n",
    "        if norm(t[i] - t[i-1]) < 0:\n",
    "            return False\n",
    "        return True "
   ]
  },
  {
   "cell_type": "code",
   "execution_count": 40,
   "id": "ffcda288-4741-4ef5-8ba4-eb4b149d869d",
   "metadata": {},
   "outputs": [],
   "source": [
    "#39. Rotate a tuple to the left by `n` positions.\n",
    "def rotate_tuple(tuple, n):\n",
    "   \n",
    "    for i in range(n):\n",
    "       \n",
    "        tuple.insert(0,tuple.pop())\n",
    "  \n",
    "    return tuple"
   ]
  },
  {
   "cell_type": "code",
   "execution_count": 48,
   "id": "1bb334e7-d589-44cc-8c9a-285f14f5a1e9",
   "metadata": {},
   "outputs": [],
   "source": [
    "#40. Rotate a tuple to the right by `n` positions.\n",
    "def right_rotater(tuple,n):\n",
    "    num =[]\n",
    "    for i in range(len(tuple)-n,len(tuple)):\n",
    "        num.append(tuple[i])\n",
    "        \n",
    "    for i in  range(0,len(tuple)-n):\n",
    "        num.append(tuple[i])\n",
    "    return num"
   ]
  },
  {
   "cell_type": "code",
   "execution_count": 64,
   "id": "2c2d9667-c578-48f3-9eb7-988bbde92d08",
   "metadata": {},
   "outputs": [],
   "source": [
    "#41. Create a tuple of the first 5 Fibonacci numbers.\n",
    "def fib(n):\n",
    "    tup=[]\n",
    "    tup.append(0)\n",
    "    a,b = 0,1\n",
    "    while b<n:\n",
    "        tup=tup+[b,]\n",
    "        a,b = b,a+b\n",
    "    return tup"
   ]
  },
  {
   "cell_type": "code",
   "execution_count": null,
   "id": "c252eb40-1733-44fd-9bc9-a627ad034af1",
   "metadata": {},
   "outputs": [],
   "source": [
    "#42. Create a tuple from user input\n",
    "tuple =input(\"ENTER TUPLE\")\n",
    "print(tuple)"
   ]
  },
  {
   "cell_type": "code",
   "execution_count": null,
   "id": "0e1dbf78-9dca-4a11-a511-a75959c03dbb",
   "metadata": {},
   "outputs": [],
   "source": [
    "#43. Swap two elements in a tuple.\n",
    "test_list = [(3, 4), (6, 5), (7, 8)]\n",
    "print( str(test_list))\n",
    "res = [(sub[1], sub[0]) for sub in test_list]\n",
    "print(str(res))"
   ]
  },
  {
   "cell_type": "code",
   "execution_count": 100,
   "id": "ad4810e7-2e9d-406d-a6cf-821fe9c03a46",
   "metadata": {},
   "outputs": [],
   "source": [
    "#44. Reverse the elements of a tuple.\n",
    "def reverse(tuple):\n",
    "    r= tuple[::-1]\n",
    "    return  r   "
   ]
  },
  {
   "cell_type": "code",
   "execution_count": 104,
   "id": "288a8d38-b537-441d-ac91-a305286c7b03",
   "metadata": {},
   "outputs": [],
   "source": [
    "#45. Create a tuple of the first `n` powers of 2.\n",
    "def squares(n):\n",
    "    power = n\n",
    "    square_list = []\n",
    "    for i in range(1,n+1):\n",
    "        square_list.append(2 ** i)\n",
    "    return square_list"
   ]
  },
  {
   "cell_type": "code",
   "execution_count": 158,
   "id": "ca00afe0-3dde-4d13-9556-7fcbc116a347",
   "metadata": {},
   "outputs": [],
   "source": [
    "#46. Find the longest string in a tuple of strings\n",
    "def longer(tuple):\n",
    "    max_len = -1\n",
    "    for ele in tuple:\n",
    "        if len(ele) > max_len:\n",
    "            max_len = len(ele)\n",
    "            res = ele\n",
    "    return res"
   ]
  },
  {
   "cell_type": "code",
   "execution_count": null,
   "id": "39ef9655-158e-46d4-8195-700d4729162e",
   "metadata": {},
   "outputs": [],
   "source": [
    "#47. Find the shortest string in a tuple of strings.\n",
    "\n",
    "def shorter(tuple):\n",
    "    shortest_string = min(tuple, key=len)\n",
    "\n",
    "print(shortest_string)"
   ]
  },
  {
   "cell_type": "code",
   "execution_count": 179,
   "id": "1cdbf1e8-20d4-4819-bcd5-baf624a7b829",
   "metadata": {},
   "outputs": [],
   "source": [
    "#48. Create a tuple of the first `n` triangular numbers\n",
    "def tringal_face(n):\n",
    "    k = 1\n",
    "    j = 1\n",
    "    for i in range(1,n+1):\n",
    "        print(k,end=\" \")\n",
    "        j = j+1\n",
    "        k = k+j\n",
    "    "
   ]
  },
  {
   "cell_type": "code",
   "execution_count": 181,
   "id": "91649b56-0072-4a56-8145-50d164406168",
   "metadata": {},
   "outputs": [],
   "source": [
    "#49. Check if a tuple contains another tuple as a subsequence.\n",
    "def subsequence(tuple1,tuple2):\n",
    "    r = set(tuple1).issubset(tuple2)\n",
    "    return r"
   ]
  },
  {
   "cell_type": "code",
   "execution_count": null,
   "id": "7786a96c-c28e-4b0f-98aa-649f162c4ab7",
   "metadata": {},
   "outputs": [],
   "source": [
    "#50. Create a tuple of alternating 1s and 0s of length `n`.\n",
    "count_1 = 4\n",
    "count_0 = 3\n",
    "size = 14\n",
    " \n",
    "test_list = [1 if i % (count_1 + count_0) < count_1\n",
    "             else 0 for i in range(size)]\n",
    " \n",
    "print(\"The list after initializing : \" + str(test_list))"
   ]
  },
  {
   "cell_type": "markdown",
   "id": "f45b826f-f69a-48c5-a754-0d9c38ecebab",
   "metadata": {
    "tags": []
   },
   "source": [
    "### set base problem\n"
   ]
  },
  {
   "cell_type": "code",
   "execution_count": 16,
   "id": "ae3fa3cf-ad1d-49a6-a0f3-6637c057cffc",
   "metadata": {},
   "outputs": [
    {
     "name": "stdout",
     "output_type": "stream",
     "text": [
      "{1, 2, 3, 4, 5}\n"
     ]
    }
   ],
   "source": [
    "#1. Create a set with integers from 1 to 5\n",
    "S = set(range(1,6))\n",
    "print(S)"
   ]
  },
  {
   "cell_type": "code",
   "execution_count": null,
   "id": "aaff9492-2130-422e-b3c4-f5aea35c10dc",
   "metadata": {},
   "outputs": [],
   "source": [
    "#2. Add an element to a set.\n",
    "G = set()\n",
    "x = input()\n",
    "G.update(x)\n",
    "print(G)"
   ]
  },
  {
   "cell_type": "code",
   "execution_count": 36,
   "id": "8653a982-3008-4448-85c2-ad37837423c8",
   "metadata": {},
   "outputs": [],
   "source": [
    "#3. Remove an element from a set.\n",
    "def remover(set,remove_part):\n",
    "    set.remove(remove_part)\n",
    "    return set"
   ]
  },
  {
   "cell_type": "code",
   "execution_count": 51,
   "id": "61c5bd6f-2d18-4a90-83cd-f91eea891878",
   "metadata": {},
   "outputs": [],
   "source": [
    "#4. Check if an element exists in a set.\n",
    "def checker(set,x):\n",
    "    for i in set:\n",
    "        if i == x:\n",
    "            return \"YES EXISTS\"\n",
    "    return \"NO MATCH FOUND\""
   ]
  },
  {
   "cell_type": "code",
   "execution_count": null,
   "id": "cf5dc138-ca06-4a3b-a0f8-d88c2225913c",
   "metadata": {},
   "outputs": [],
   "source": [
    "#5. Find the length of a set without using the `len()` functio\n",
    "def lenght(set):\n",
    "    count = 0\n",
    "    for i in set:\n",
    "        count +=1\n",
    "    return count "
   ]
  },
  {
   "cell_type": "code",
   "execution_count": null,
   "id": "3b5a1b2d-fa4a-404c-bf1d-b7ee95c8494d",
   "metadata": {},
   "outputs": [],
   "source": [
    "#6. Clear all elements from a set.\n",
    "S = {input(\"ENTER SET\")}\n",
    "S.clear()\n",
    "print(S)"
   ]
  },
  {
   "cell_type": "code",
   "execution_count": null,
   "id": "86b84469-350c-4717-bbee-957f64cae21a",
   "metadata": {},
   "outputs": [],
   "source": [
    "# 7. Create a set of even numbers from 1 to 10.\n",
    "even_in_set=({x for x in range(1,11)if x % 2 == 0})\n",
    "even_in_set"
   ]
  },
  {
   "cell_type": "code",
   "execution_count": 80,
   "id": "51bda50e-6439-4782-b9f7-3031348bf23c",
   "metadata": {},
   "outputs": [],
   "source": [
    "#8. Create a set of odd numbers from 1 to 10.\n",
    "odd_in_set=({y for y in range(1,11)if y % 2 != 0})\n",
    "odd_in_set"
   ]
  },
  {
   "cell_type": "code",
   "execution_count": 82,
   "id": "372c1dd3-891e-4244-9327-f210e79257be",
   "metadata": {},
   "outputs": [],
   "source": [
    "#9. Find the union of two sets.\n",
    "def union_two_set(set1,set2):\n",
    "    return set1.union(set2)\n",
    "    "
   ]
  },
  {
   "cell_type": "code",
   "execution_count": 84,
   "id": "0cd12fba-712f-42ff-8e5d-49d2de78c06a",
   "metadata": {},
   "outputs": [],
   "source": [
    "#10. Find the intersection of two sets\n",
    "def intersection_two_set(set1,set2):\n",
    "    return set1.intersection(set2)\n",
    "    "
   ]
  },
  {
   "cell_type": "code",
   "execution_count": 10,
   "id": "d473d401-894d-4d7a-94c5-fe1b96dd4eb0",
   "metadata": {},
   "outputs": [],
   "source": [
    "#11. Find the difference between two sets.\n",
    "def found_diff(set1,set2):\n",
    "    print(set1-set2)\n",
    "    print(set2-set1)\n",
    "    "
   ]
  },
  {
   "cell_type": "code",
   "execution_count": 28,
   "id": "bf6217d3-3b21-437e-b292-022426628e0d",
   "metadata": {},
   "outputs": [],
   "source": [
    "#12. Check if a set is a subset of another set.\n",
    "def sub(s1,s2):\n",
    "    print(s2.issubset(s1))"
   ]
  },
  {
   "cell_type": "code",
   "execution_count": 31,
   "id": "87d31e8c-36b6-4aac-b55a-a5e3fe2506ab",
   "metadata": {},
   "outputs": [],
   "source": [
    "#13. Check if a set is a superset of another set.\n",
    "def sup(s1,s2):\n",
    "    return s2.issuperset(s1)\n"
   ]
  },
  {
   "cell_type": "code",
   "execution_count": 38,
   "id": "785720cb-5db3-473e-b433-b2926945de27",
   "metadata": {},
   "outputs": [
    {
     "data": {
      "text/plain": [
       "{1, 2, 3, 4, 5, 6, 7, 8, 9, 10}"
      ]
     },
     "execution_count": 38,
     "metadata": {},
     "output_type": "execute_result"
    }
   ],
   "source": [
    "#14. Create a set from a list.\n",
    "number = list(range(1,11))\n",
    "set(number)"
   ]
  },
  {
   "cell_type": "code",
   "execution_count": 37,
   "id": "8a282da8-5cbb-4700-a94c-58088d05d312",
   "metadata": {},
   "outputs": [
    {
     "data": {
      "text/plain": [
       "[1, 2, 3, 4, 5, 6, 7, 8, 9, 10]"
      ]
     },
     "execution_count": 37,
     "metadata": {},
     "output_type": "execute_result"
    }
   ],
   "source": [
    "#15. Convert a set to a list\n",
    "number = set(range(1,11))\n",
    "list(number)"
   ]
  },
  {
   "cell_type": "code",
   "execution_count": 44,
   "id": "e26c61a2-22f5-4612-91f2-76a4422186f8",
   "metadata": {},
   "outputs": [],
   "source": [
    "#16. Remove a random element from a set\n",
    "def rand_remover(set):\n",
    "    set.pop()\n",
    "    return set\n",
    "    "
   ]
  },
  {
   "cell_type": "code",
   "execution_count": null,
   "id": "eefb24e1-942a-4f2e-b7a6-ea98de429ba0",
   "metadata": {},
   "outputs": [],
   "source": [
    "#17. Pop an element from a set\n",
    "def rand_remover(set):\n",
    "    set.pop()\n",
    "    return set\n",
    "    "
   ]
  },
  {
   "cell_type": "code",
   "execution_count": 49,
   "id": "6781bfdf-e6f6-435f-8dc9-0d9d017d2ee1",
   "metadata": {},
   "outputs": [],
   "source": [
    "#18. Check if two sets have no elements in common\n",
    "def isdis(set1,set2):\n",
    "    return set2.isdisjoint(set1)\n",
    "\n",
    "    return False"
   ]
  },
  {
   "cell_type": "code",
   "execution_count": 54,
   "id": "7d78c8be-5f4c-4bc5-ad6c-65ad93da7eaf",
   "metadata": {},
   "outputs": [],
   "source": [
    "#19. Find the symmetric difference between two sets.\n",
    "def synmetric(set1,set2):\n",
    "    return set1.symmetric_difference(set2)\n"
   ]
  },
  {
   "cell_type": "code",
   "execution_count": 56,
   "id": "2c903fe4-66cb-44f7-a3b9-ca62ed28066a",
   "metadata": {},
   "outputs": [],
   "source": [
    "#20. Update a set with elements from another set.\n",
    "def updater(set,x):\n",
    "    set.update(x)\n",
    "    return set\n",
    "    "
   ]
  },
  {
   "cell_type": "code",
   "execution_count": null,
   "id": "ec8a2b4e-e4c8-45f7-97b1-31bc5e421c85",
   "metadata": {},
   "outputs": [],
   "source": [
    "#21. Create a set of the first 5 prime numbers.\n",
    "def isPrime(n):\n",
    "  \n",
    "  if(n==1 or n==0):\n",
    "    return False\n",
    "   \n",
    "  \n",
    "  for i in range(2,n):\n",
    "    if(n%i==0):\n",
    "      return False\n",
    "   \n",
    "    \n",
    "  return True\n",
    " \n",
    " \n",
    " \n",
    "# Driver code\n",
    "N = 100;\n",
    "for i in range(1,N+1):\n",
    "    \n",
    "  if(isPrime(i)):\n",
    "    print(i,end=\" \")"
   ]
  },
  {
   "cell_type": "code",
   "execution_count": 38,
   "id": "1e68e6ff-7adc-48b5-a09b-1cb4bbb2e5cd",
   "metadata": {},
   "outputs": [],
   "source": [
    "#22. Check if two sets are identical.\n",
    "def identical(set1,set2):\n",
    "    return set1==set2"
   ]
  },
  {
   "cell_type": "code",
   "execution_count": null,
   "id": "bd0ad3d3-899f-4c57-a14d-7aff5f111adb",
   "metadata": {},
   "outputs": [],
   "source": [
    "#23. Create a frozen set.\n",
    "fruits = frozenset([\"apple\", \"banana\", \"orange\"])\n",
    "print(fruits) "
   ]
  },
  {
   "cell_type": "code",
   "execution_count": 48,
   "id": "44b0e3a8-4193-4e1d-a9a9-ce1aab84050c",
   "metadata": {},
   "outputs": [],
   "source": [
    "#24. Check if a set is disjoint with another set.\n",
    "def identical(set1,set2):\n",
    "    return set1!=set2"
   ]
  },
  {
   "cell_type": "code",
   "execution_count": 74,
   "id": "526e9172-cc74-4ad7-8806-293f06c2291a",
   "metadata": {},
   "outputs": [
    {
     "name": "stdout",
     "output_type": "stream",
     "text": [
      "1\n",
      "4\n",
      "9\n",
      "16\n",
      "25\n"
     ]
    }
   ],
   "source": [
    "#25. Create a set of squares of numbers from 1 to 5.\n",
    "for i in range(1,6):\n",
    "    s = i * i\n",
    "    print(s)"
   ]
  },
  {
   "cell_type": "code",
   "execution_count": null,
   "id": "dbe5b5f1-7299-4dec-8e75-1bb5eee6db15",
   "metadata": {},
   "outputs": [],
   "source": [
    "#26. Filter out all even numbers from a set## \n",
    "numbers = {1, 2, 3, 4, 5, 6, 7, 8, 9, 10}\n",
    "even_numbers = set(filter(lambda x: x % 2 == 0, numbers))\n",
    "\n",
    "\n",
    "print(even_numbers)"
   ]
  },
  {
   "cell_type": "code",
   "execution_count": 96,
   "id": "5d52a8c9-0a95-40fe-acc8-bed320075047",
   "metadata": {},
   "outputs": [],
   "source": [
    "#27. Multiply all elements in a set by 2.\n",
    "def double(set):\n",
    "    new_set = {2 * i for i in set}\n",
    "    return new_set"
   ]
  },
  {
   "cell_type": "code",
   "execution_count": null,
   "id": "ebe72f39-c52d-477d-90b9-68aad9bed23a",
   "metadata": {},
   "outputs": [],
   "source": [
    "#28. Create a set of random numbers.\n",
    "import random\n",
    "N = 10\n",
    "for i in range(1,15):\n",
    "    y = random.randrange(N)\n",
    "    print(y)"
   ]
  },
  {
   "cell_type": "code",
   "execution_count": 104,
   "id": "b75b3737-5318-4530-8ff2-f02ac0b174a2",
   "metadata": {},
   "outputs": [],
   "source": [
    "def empty(set):\n",
    "    q= {}\n",
    "    if set == q:\n",
    "        return True\n",
    "    return False"
   ]
  },
  {
   "cell_type": "code",
   "execution_count": null,
   "id": "00f9b6bf-ca0d-48e0-9133-677be08b1eef",
   "metadata": {},
   "outputs": [],
   "source": [
    "#30. Create a nested set (hint: use frozenset).\n",
    ">>> nested_set = frozenset({frozenset({1, 2}), frozenset({3, 4})})\n",
    ">>> print(nested_set)\n",
    "frozenset({frozenset({1, 2}), frozenset({3, 4})})"
   ]
  },
  {
   "cell_type": "code",
   "execution_count": null,
   "id": "310381fa-1ed0-43e9-a3a6-f171a65a18d9",
   "metadata": {},
   "outputs": [],
   "source": [
    "#31. Remove an element from a set using the discard method\n",
    "fruits = {\"apple\", \"banana\", \"cherry\"}\n",
    "\n",
    "fruits.discard(\"banana\")\n",
    "\n",
    "print(fruits)"
   ]
  },
  {
   "cell_type": "code",
   "execution_count": null,
   "id": "5d8a5268-c9f6-40b8-b0e8-6be1f606f6fc",
   "metadata": {},
   "outputs": [],
   "source": [
    "#32. Compare two sets.\n",
    "def copare(set1,set2):\n",
    "    for i in set1:\n",
    "        for j in set2:\n",
    "            if i==j:\n",
    "                return True\n",
    "    return False        \n",
    "\n"
   ]
  },
  {
   "cell_type": "code",
   "execution_count": 155,
   "id": "9ca79c57-c17a-4764-8d57-bda7d90f294f",
   "metadata": {},
   "outputs": [],
   "source": [
    "#33. Create a set from a string.\n",
    "def string_to_set(input_string):\n",
    "    return set(input_string)\n",
    "\n",
    "input_string = \"hello world\"\n",
    "result_set = string_to_set(input_string)\n",
    "print(result_set)"
   ]
  },
  {
   "cell_type": "code",
   "execution_count": null,
   "id": "184a51e6-67be-4218-ac4b-e57afff9f1a1",
   "metadata": {},
   "outputs": [],
   "source": [
    "#34. Convert a set of strings to a set of integer\n",
    "strings = (\"1\", \"2\", \"3\")\n",
    "integers = {int(string) for string in strings}\n",
    "print(integers)\n"
   ]
  },
  {
   "cell_type": "code",
   "execution_count": 16,
   "id": "48269b26-5fb8-4159-9305-a0958f0d877e",
   "metadata": {},
   "outputs": [
    {
     "name": "stdin",
     "output_type": "stream",
     "text": [
      "{} 1,2,4\n"
     ]
    },
    {
     "name": "stdout",
     "output_type": "stream",
     "text": [
      "{'1', '4', '2', ','}\n"
     ]
    }
   ],
   "source": [
    "#35. Convert a set of integers to a set of strings.\n",
    "my_set = input({})\n",
    "my_set_of_strings = {str(x) for x in my_set}\n",
    "print(my_set_of_strings)"
   ]
  },
  {
   "cell_type": "code",
   "execution_count": null,
   "id": "bb47dbb3-39e6-4449-ac6c-afe31880419d",
   "metadata": {},
   "outputs": [],
   "source": [
    "#36. Create a set from a tuple.\n",
    ">>> my_tuple = (input())\n",
    ">>> my_set = set(my_tuple)\n",
    ">>> print(my_set)"
   ]
  },
  {
   "cell_type": "code",
   "execution_count": 38,
   "id": "b35c67ee-ae7d-48a6-b9b6-f6e435713c43",
   "metadata": {},
   "outputs": [],
   "source": [
    "#37. Convert a set to a tuple.\n",
    "def set_to_tuple(my_set):\n",
    "    my_tuple = (*my_set,)\n",
    "    print(my_tuple)\n",
    "    \n",
    "my_set = {1,2,3} "
   ]
  },
  {
   "cell_type": "code",
   "execution_count": 46,
   "id": "3cfae9ef-2925-4c4e-b848-92b53e43a986",
   "metadata": {},
   "outputs": [],
   "source": [
    "#38. Find the maximum value in a set.\n",
    "def max_valu(set):\n",
    "    return (max(set))"
   ]
  },
  {
   "cell_type": "code",
   "execution_count": 48,
   "id": "06b178f4-f545-41ac-b097-af4a28e4b53a",
   "metadata": {},
   "outputs": [],
   "source": [
    "#39. Find the minimum value in a set.\n",
    "def MIN(set):\n",
    "    return (min(set))"
   ]
  },
  {
   "cell_type": "code",
   "execution_count": null,
   "id": "a684f25e-a6f8-498e-8a57-8e325fe3625c",
   "metadata": {},
   "outputs": [],
   "source": [
    "#40. Create a set from user input.\n",
    "set1 = {input(\"ENTER SET HERE\")}\n",
    "print(set1)"
   ]
  },
  {
   "cell_type": "code",
   "execution_count": 58,
   "id": "fb8df980-08ed-46a3-afe4-2c9cee563a45",
   "metadata": {},
   "outputs": [],
   "source": [
    "##41. Check if the intersection of two sets is empty.\n",
    "def intersection(set1,set2):\n",
    "    return set1.intersection(set2)\n",
    "# Check if the intersection of two sets is empty\n",
    "if not set1 & set2:\n",
    "    print(\"The intersection of two sets is empty\")\n",
    "else:\n",
    "    print(\"The intersection of two sets is not empty\")"
   ]
  },
  {
   "cell_type": "code",
   "execution_count": null,
   "id": "d4e9f0be-3722-46b8-a45a-e537de704a99",
   "metadata": {},
   "outputs": [],
   "source": [
    "#42. Create a set of the first 5 Fibonacci numbers.\n",
    "n = 5\n",
    "num1 = 0\n",
    "num2 = 1\n",
    "next_number = num2  \n",
    "count = 1\n",
    " \n",
    "while count <= n:\n",
    "    print(next_number, end=\" \")\n",
    "    count += 1\n",
    "    num1, num2 = num2, next_number\n",
    "    next_number = num1 + num2\n",
    "    print()"
   ]
  },
  {
   "cell_type": "code",
   "execution_count": 120,
   "id": "afc89928-7fa0-43e4-9855-c1b019aa83d8",
   "metadata": {},
   "outputs": [
    {
     "name": "stdout",
     "output_type": "stream",
     "text": [
      "The original list is : [1, 3, 5, 6, 3, 5, 6, 1]\n",
      "The list after removing duplicates : [1, 3, 5, 6]\n"
     ]
    }
   ],
   "source": [
    "#43. Remove duplicates from a list using sets.\n",
    "test_list = [1, 3, 5, 6, 3, 5, 6, 1]\n",
    "print(\"The original list is : \"\n",
    "      + str(test_list))\n",
    " \n",
    "res = []\n",
    "[res.append(x) for x in test_list if x not in res]\n",
    " \n",
    "print (\"The list after removing duplicates : \"\n",
    "       + str(res))"
   ]
  },
  {
   "cell_type": "code",
   "execution_count": 55,
   "id": "930acd70-f2a3-4543-9841-218faf6c0bcc",
   "metadata": {},
   "outputs": [],
   "source": [
    "#44. Check if two sets have the same elements, regardless of their count.\n",
    "def same(set1,set2):\n",
    "    if set1 == {} or set2 == {}:\n",
    "        return \"DON'T GIVE BLANK SPACE\"\n",
    "    r = set1.issubset(set2)\n",
    "    return True"
   ]
  },
  {
   "cell_type": "code",
   "execution_count": null,
   "id": "732c1b9e-a9fe-4dfe-955c-c8888a8d79f2",
   "metadata": {},
   "outputs": [],
   "source": [
    "#45. Create a set of the first `n` powers of 2\n",
    "def gen(x):\n",
    "    i = 2\n",
    "    for n in range(x + 1):\n",
    "        yield i\n",
    "        i <<= 1\n",
    "\n",
    "tuple(gen(4))"
   ]
  },
  {
   "cell_type": "code",
   "execution_count": 123,
   "id": "e77a9635-2537-407e-9f12-d1341822badc",
   "metadata": {},
   "outputs": [],
   "source": [
    "#46. Find the common elements between a set and a list.\n",
    "def common(set,list):\n",
    "    for i in set:\n",
    "        for j in list:\n",
    "            if i==j:\n",
    "                return i\n",
    "    return \"NO MATCH FOUND\"       "
   ]
  },
  {
   "cell_type": "code",
   "execution_count": null,
   "id": "40442cfc-ce22-41f4-aa54-edd463ac5c6a",
   "metadata": {},
   "outputs": [],
   "source": [
    "#47. Create a set of the first `n` triangular numbers\n",
    "def  triangular_numbers(n):\n",
    "    j =1\n",
    "    k =1\n",
    "    for i in range(0,n+1):\n",
    "        print(k,end=\" \")\n",
    "        j = j+1\n",
    "        k = k+j"
   ]
  },
  {
   "cell_type": "code",
   "execution_count": 133,
   "id": "18cc4f92-e3c2-4d46-8875-247a57ca3a4d",
   "metadata": {},
   "outputs": [],
   "source": [
    "#48Check if a set contains another set as a subset.\n",
    "def subser(set1,set2):\n",
    "    r = set1.issubset(set2)\n",
    "    return r"
   ]
  },
  {
   "cell_type": "code",
   "execution_count": null,
   "id": "f387e8cc-3c1b-4784-8888-d6c605ab8286",
   "metadata": {},
   "outputs": [],
   "source": [
    "#49 Create a set of alternating 1s and 0s of length `n\n",
    "def create_alternating_set(n):\n",
    "    set = set()\n",
    "    for i in range(n):\n",
    "        set.add(i % 2)\n",
    "        return set\n",
    "n = 10  \n",
    "create_alternating_set(n)    "
   ]
  },
  {
   "cell_type": "code",
   "execution_count": 160,
   "id": "c38d0b49-a631-4ba4-990d-1b1da8fe81d6",
   "metadata": {},
   "outputs": [],
   "source": [
    "#50. Merge multiple sets into one\n",
    "def  Merge(set,set1,set2):\n",
    "    return set.union(set1,set2)"
   ]
  },
  {
   "cell_type": "code",
   "execution_count": 161,
   "id": "428e8271-01c1-45b3-b364-108a1ce84e7b",
   "metadata": {},
   "outputs": [
    {
     "data": {
      "text/plain": [
       "{1, 2, 3, 4, 5, 6, 7, 8, 9}"
      ]
     },
     "execution_count": 161,
     "metadata": {},
     "output_type": "execute_result"
    }
   ],
   "source": [
    "set  = {1,2,3}\n",
    "set1 = {4,5,6}\n",
    "set2 = {7,8,9}\n",
    "Merge(set,set1,set2)"
   ]
  },
  {
   "cell_type": "code",
   "execution_count": null,
   "id": "7d55009f-a7b3-426b-8faa-7b201962e43a",
   "metadata": {},
   "outputs": [],
   "source": []
  }
 ],
 "metadata": {
  "kernelspec": {
   "display_name": "Python 3 (ipykernel)",
   "language": "python",
   "name": "python3"
  },
  "language_info": {
   "codemirror_mode": {
    "name": "ipython",
    "version": 3
   },
   "file_extension": ".py",
   "mimetype": "text/x-python",
   "name": "python",
   "nbconvert_exporter": "python",
   "pygments_lexer": "ipython3",
   "version": "3.10.8"
  }
 },
 "nbformat": 4,
 "nbformat_minor": 5
}
